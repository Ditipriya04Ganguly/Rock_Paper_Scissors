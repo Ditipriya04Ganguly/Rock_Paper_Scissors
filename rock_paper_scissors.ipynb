{
  "nbformat": 4,
  "nbformat_minor": 0,
  "metadata": {
    "colab": {
      "name": "rock-paper-scissors.ipynb",
      "provenance": [],
      "collapsed_sections": []
    },
    "kernelspec": {
      "name": "python3",
      "display_name": "Python 3"
    },
    "language_info": {
      "name": "python"
    }
  },
  "cells": [
    {
      "cell_type": "code",
      "metadata": {
        "colab": {
          "base_uri": "https://localhost:8080/"
        },
        "id": "rm6-UgJzEzB6",
        "outputId": "0f3ecfca-d895-4deb-b8e4-811392ccf39e"
      },
      "source": [
        "# Rock, Paper , Scissors Game\n",
        "from random import randint\n",
        "\n",
        "# Moves for the player\n",
        "moves = [\"rock\",\"paper\",\"scissors\"]\n",
        "\n",
        "while True:\n",
        "  computer = moves[randint(0,2)]\n",
        "  player = input(\"rock, paper or scissors? (or end the game) \").lower()\n",
        "  if player == \"end the game\":\n",
        "    print(\"The game has ended\")\n",
        "    break\n",
        "  elif player == computer:\n",
        "    print(\"Tie!\")\n",
        "  elif player == \"rock\":\n",
        "    if computer == \"paper\":\n",
        "      print(\"You lose!\", computer, \"beats\", player)\n",
        "    else:\n",
        "      print(\"You win!\", player, \"beats\", computer)\n",
        "  elif player == \"paper\":\n",
        "    if computer == \"scissors\":\n",
        "      print(\"You lose!\", computer, \"beats\", player)\n",
        "    else:\n",
        "      print(\"You win!\", player, \"beats\", computer)\n",
        "  elif player == \"scissors\":\n",
        "    if computer == \"rock\":\n",
        "      print(\"You lose!\", computer, \"beats\", player)\n",
        "    else:\n",
        "      print(\"You win!\", player, \"beats\", computer)\n",
        "  else:\n",
        "    print(\"Check your spelling :(( \")"
      ],
      "execution_count": 1,
      "outputs": [
        {
          "output_type": "stream",
          "text": [
            "rock, paper or scissors? (or end the game) rock\n",
            "You win! rock beats scissors\n",
            "rock, paper or scissors? (or end the game) paper\n",
            "Tie!\n",
            "rock, paper or scissors? (or end the game) scissors\n",
            "You lose! rock beats scissors\n",
            "rock, paper or scissors? (or end the game) rock\n",
            "You win! rock beats scissors\n",
            "rock, paper or scissors? (or end the game) rock\n",
            "You lose! paper beats rock\n",
            "rock, paper or scissors? (or end the game) end the game\n",
            "The game has ended\n"
          ],
          "name": "stdout"
        }
      ]
    }
  ]
}